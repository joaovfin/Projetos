{
  "nbformat": 4,
  "nbformat_minor": 0,
  "metadata": {
    "colab": {
      "name": "_06_Dados_Banco_Central.ipynb",
      "provenance": [],
      "collapsed_sections": [],
      "include_colab_link": true
    },
    "kernelspec": {
      "name": "python3",
      "display_name": "Python 3"
    },
    "language_info": {
      "name": "python"
    }
  },
  "cells": [
    {
      "cell_type": "markdown",
      "metadata": {
        "id": "view-in-github",
        "colab_type": "text"
      },
      "source": [
        "<a href=\"https://colab.research.google.com/github/joaovfin/Projetos/blob/main/_06_Dados_Banco_Central.ipynb\" target=\"_parent\"><img src=\"https://colab.research.google.com/assets/colab-badge.svg\" alt=\"Open In Colab\"/></a>"
      ]
    },
    {
      "cell_type": "code",
      "metadata": {
        "id": "DBiv_JX3WYMq"
      },
      "source": [
        "#Importando as bibliotecas usadas\n",
        "import pandas as pd\n",
        "import seaborn as sns; sns.set()\n",
        "import matplotlib.pyplot as plt\n",
        "\n",
        "!pip install yfinance --upgrade --no-cache-dir\n",
        "import yfinance as yf"
      ],
      "execution_count": null,
      "outputs": []
    },
    {
      "cell_type": "markdown",
      "metadata": {
        "id": "8ep0DbdySTb4"
      },
      "source": [
        "**Sistema gerador de séries temporais do Banco Central do Brasil. Pode-se consultar diversas bases da dados disponíveis.**\n",
        "\n",
        "https://www3.bcb.gov.br/sgspub/localizarseries/localizarSeries.do?method=prepararTelaLocalizarSeries\n",
        "\n",
        "**Como fazer consultas na base de dados a partir da API**\n",
        "\n",
        "https://dadosabertos.bcb.gov.br/dataset/20542-saldo-da-carteira-de-credito-com-recursos-livres---total/resource/6e2b0c97-afab-4790-b8aa-b9542923cf88\n",
        "\n",
        "**Link da API**\n",
        "\n",
        "http://api.bcb.gov.br/dados/serie/bcdata.sgs.20542/dados?formato=json"
      ]
    },
    {
      "cell_type": "markdown",
      "metadata": {
        "id": "EWulMxCpSGLI"
      },
      "source": [
        "# **O que é um API?**\n",
        "\n",
        "API é um conjunto de rotinas e padrões de programação para acesso a um aplicativo de software ou plataforma baseado na Web. A sigla API refere-se ao termo em inglês \"Application Programming Interface\" que significa em tradução para o português \"Interface de Programação de Aplicativos\".\n",
        "\n",
        "Uma API é criada quando uma empresa de software tem a intenção de que outros criadores de software desenvolvam produtos associados ao seu serviço"
      ]
    },
    {
      "cell_type": "markdown",
      "metadata": {
        "id": "AFTvrluKTLPA"
      },
      "source": [
        "# **O que é JSON?**\n",
        "\n",
        "JavaScript Object Notation é um modelo para armazenamento e transmissão de informações no formato texto. Apesar de muito simples, tem sido bastante utilizado por aplicações Web devido a sua capacidade de estruturar informações de uma forma bem mais compacta do que a conseguida pelo modelo XML\n",
        "\n",
        "JSON\n",
        "\n",
        "{\n",
        "   \"id\":1,\n",
        "   \"nome\":\"Alexandre Gama\",\n",
        "   \"endereco\":\"R. Qualquer\"\n",
        "}"
      ]
    },
    {
      "cell_type": "code",
      "metadata": {
        "id": "cLDiv1nKWm8U"
      },
      "source": [
        "#Obtendo API do BANCO CENTRAL DO BRASIL\n",
        "def consulta_bc(codigo_bcb):\n",
        "  url = 'http://api.bcb.gov.br/dados/serie/bcdata.sgs.{}/dados?formato=json'.format(codigo_bcb)\n",
        "  df = pd.read_json(url)\n",
        "  df['data'] = pd.to_datetime(df['data'], dayfirst=True) \n",
        "  df.set_index('data', inplace=True)\n",
        "  return df"
      ],
      "execution_count": null,
      "outputs": []
    },
    {
      "cell_type": "code",
      "metadata": {
        "id": "EGAAp1d9YItY"
      },
      "source": [
        "#Consultando a SELIC META\n",
        "selic_meta = consulta_bc(432)\n",
        "selic_meta\n",
        "selic_meta.plot(figsize=(20,8))"
      ],
      "execution_count": null,
      "outputs": []
    },
    {
      "cell_type": "code",
      "metadata": {
        "id": "dR0zzeuBYWkh"
      },
      "source": [
        "#Definindo uma data de inicio para realizar a comparação\n",
        "data_inicio='2018-01-01'\n",
        "ibov = yf.download(tickers='^BVSP',start=data_inicio)[['Adj Close']]\n",
        "ibov_retorno = ibov.pct_change()\n",
        "ibov_retorno"
      ],
      "execution_count": null,
      "outputs": []
    },
    {
      "cell_type": "code",
      "metadata": {
        "id": "AeEwjwCrYaA0"
      },
      "source": [
        "#Consultando o cdi\n",
        "cdi=consulta_bc(12)\n",
        "cdi"
      ],
      "execution_count": null,
      "outputs": []
    },
    {
      "cell_type": "code",
      "metadata": {
        "id": "3_6j9Q8JYx4n"
      },
      "source": [
        "#Calculando os retornos acumulado de cada um dos ativos\n",
        "ibov_retorno_acumulado = (1 + ibov_retorno).cumprod()\n",
        "ibov_retorno_acumulado.iloc[0] = 1\n",
        "\n",
        "cdi_acumulado = (1 + cdi[cdi.index >= data_inicio] / 100).cumprod()\n",
        "cdi_acumulado.iloc[0] = 1"
      ],
      "execution_count": null,
      "outputs": []
    },
    {
      "cell_type": "code",
      "metadata": {
        "id": "aeuwqnPBaWiX"
      },
      "source": [
        "ibov_retorno_acumulado"
      ],
      "execution_count": null,
      "outputs": []
    },
    {
      "cell_type": "code",
      "metadata": {
        "id": "PAjoSoFYaRot"
      },
      "source": [
        "cdi_acumulado"
      ],
      "execution_count": null,
      "outputs": []
    },
    {
      "cell_type": "code",
      "metadata": {
        "id": "qORg2xKtZ7-Y"
      },
      "source": [
        "#Plotando os gráficos\n",
        "ibov_retorno_acumulado['Adj Close'].plot(figsize=(20,8),label='IBOV')\n",
        "cdi_acumulado['valor'].plot(label='CDI')\n",
        "plt.legend()\n",
        "\n",
        "#Plotando de outra forma\n",
        "#fig, ax = plt.subplots(figsize=(20,8))\n",
        "#ax.plot(ibov_retorno_acumulado, label='IBOV')\n",
        "#ax.plot(cdi_acumulado,label='CDI');\n",
        "#plt.legend()"
      ],
      "execution_count": null,
      "outputs": []
    }
  ]
}