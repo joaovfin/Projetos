{
  "nbformat": 4,
  "nbformat_minor": 0,
  "metadata": {
    "colab": {
      "name": "_02_Dados_Acoes_YahooFin",
      "provenance": [],
      "include_colab_link": true
    },
    "kernelspec": {
      "name": "python3",
      "display_name": "Python 3"
    }
  },
  "cells": [
    {
      "cell_type": "markdown",
      "metadata": {
        "id": "view-in-github",
        "colab_type": "text"
      },
      "source": [
        "<a href=\"https://colab.research.google.com/github/joaovfin/Projetos/blob/main/_02_Dados_Acoes_YahooFin.ipynb\" target=\"_parent\"><img src=\"https://colab.research.google.com/assets/colab-badge.svg\" alt=\"Open In Colab\"/></a>"
      ]
    },
    {
      "cell_type": "markdown",
      "metadata": {
        "id": "EODJvcyByZco"
      },
      "source": [
        "## Importando bibliotecas"
      ]
    },
    {
      "cell_type": "code",
      "metadata": {
        "id": "DyEqFxP_z57X"
      },
      "source": [
        "#Importando as bibliotecas \n",
        "import pandas as pd\n",
        "import numpy as np\n",
        "import matplotlib.pyplot as plt\n",
        "import pandas_datareader.data as web\n",
        "\n",
        "!pip install yfinance --upgrade --no-cache-dir\n",
        "import yfinance as yf\n",
        "yf.pdr_override()"
      ],
      "execution_count": null,
      "outputs": []
    },
    {
      "cell_type": "markdown",
      "metadata": {
        "id": "JEEY0mEd0QEB"
      },
      "source": [
        "# Importando os dados do Yahoo\n"
      ]
    },
    {
      "cell_type": "code",
      "metadata": {
        "id": "zBCgTvbg0cDG"
      },
      "source": [
        "ibov=web.get_data_yahoo('^BVSP') #Pode-se colocar star='date' e end='date'\n",
        "ibov"
      ],
      "execution_count": null,
      "outputs": []
    },
    {
      "cell_type": "code",
      "metadata": {
        "id": "ToT2iwrJsiks"
      },
      "source": [
        "print(itub.info['sector'])"
      ],
      "execution_count": null,
      "outputs": []
    },
    {
      "cell_type": "code",
      "metadata": {
        "id": "8XT85cxJ0myw"
      },
      "source": [
        "ibov.head()"
      ],
      "execution_count": null,
      "outputs": []
    },
    {
      "cell_type": "code",
      "metadata": {
        "id": "gmL_CLY_06BA"
      },
      "source": [
        "ibov.tail()"
      ],
      "execution_count": null,
      "outputs": []
    },
    {
      "cell_type": "code",
      "metadata": {
        "id": "mG2j_Dcm1B3v"
      },
      "source": [
        "ibov[\"Close\"].plot(figsize=(20,8),label=\"IBOV\")\n",
        "ibov[\"Close\"].rolling(21).mean().plot(label=\"MM21\")\n",
        "ibov[\"Close\"].rolling(200).mean().plot(label=\"MM200\")\n",
        "plt.legend()"
      ],
      "execution_count": null,
      "outputs": []
    },
    {
      "cell_type": "code",
      "metadata": {
        "id": "KkBzDfeC2Ukh"
      },
      "source": [
        "ibov_period=ibov[(ibov.index.year >= 2018) & (ibov.index.year <= 2021)]\n",
        "ibov_period[\"Close\"].plot(figsize=(20,8),label=\"IBOV\")\n",
        "ibov_period[\"Close\"].rolling(21).mean().plot(label=\"MM21\")\n",
        "ibov_period[\"Close\"].rolling(200).mean().plot(label=\"MM200\")\n",
        "plt.legend()"
      ],
      "execution_count": null,
      "outputs": []
    }
  ]
}