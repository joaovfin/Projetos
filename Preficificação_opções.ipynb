{
  "nbformat": 4,
  "nbformat_minor": 0,
  "metadata": {
    "colab": {
      "provenance": [],
      "authorship_tag": "ABX9TyM0f69aH4H2Zq6nWzml6xOd",
      "include_colab_link": true
    },
    "kernelspec": {
      "name": "python3",
      "display_name": "Python 3"
    },
    "language_info": {
      "name": "python"
    }
  },
  "cells": [
    {
      "cell_type": "markdown",
      "metadata": {
        "id": "view-in-github",
        "colab_type": "text"
      },
      "source": [
        "<a href=\"https://colab.research.google.com/github/joaovfin/Projetos/blob/main/Preficifica%C3%A7%C3%A3o_op%C3%A7%C3%B5es.ipynb\" target=\"_parent\"><img src=\"https://colab.research.google.com/assets/colab-badge.svg\" alt=\"Open In Colab\"/></a>"
      ]
    },
    {
      "cell_type": "markdown",
      "source": [
        "# **Precificação de opções**\n",
        "Esse projeto tem a finalidade de auxiliar na cotação de opções para montagem e zeragens.\n",
        "- Volatilidade\n",
        "- Prêmio Call e Put\n",
        "- Delta, Vega, Gamma, Rho, Theta\n",
        "- Call Spread\n",
        "- Put Spread\n",
        "\n",
        "### By João Vitor Fin Schaedler"
      ],
      "metadata": {
        "id": "ygGip_zwuxLN"
      }
    },
    {
      "cell_type": "markdown",
      "source": [
        "### Importando bibliotecas"
      ],
      "metadata": {
        "id": "M5NIUtuNvKrb"
      }
    },
    {
      "cell_type": "code",
      "source": [
        "#Importando as bibliotecas\n",
        "import datetime as dt\n",
        "import pandas as pd\n",
        "import numpy as np\n",
        "!pip install workdays\n",
        "import math\n",
        "!pip install yfinance\n",
        "import yfinance as yf\n",
        "yf.pdr_override()\n",
        "from pandas_datareader import data as pdr\n",
        "from scipy.stats import norm\n",
        "import matplotlib.pyplot as plt\n",
        "!pip install py_vollib\n",
        "from py_vollib.black_scholes_merton import black_scholes_merton as bsm\n",
        "from py_vollib.black_scholes_merton.greeks.analytical import delta, gamma, vega, theta, rho"
      ],
      "metadata": {
        "id": "mI5knQq_u1Sv"
      },
      "execution_count": null,
      "outputs": []
    },
    {
      "cell_type": "markdown",
      "source": [
        "### Volatilidade"
      ],
      "metadata": {
        "id": "m8qllb49vWTJ"
      }
    },
    {
      "cell_type": "code",
      "source": [
        "#Ativo e periodo\n",
        "ativo = 'LREN3.SA'\n",
        "start=dt.datetime(2022,1,1)\n",
        "end=dt.datetime.now()"
      ],
      "metadata": {
        "id": "MGKhLxdrxF-r"
      },
      "execution_count": null,
      "outputs": []
    },
    {
      "cell_type": "code",
      "source": [
        "#Calculando a volatilidade\n",
        "df=pdr.get_data_yahoo(ativo,start,end)[[\"Close\"]]\n",
        "df.rename(columns={'Close':\"Volatility\"},inplace=True)\n",
        "log_returns=np.log(df/df.shift(1)).dropna()\n",
        "\n",
        "#Plota a volatilidade do ativo\n",
        "trading_days = 20 #Janela de calculo da volatilidade\n",
        "volatility=log_returns.rolling(window=trading_days).std()*np.sqrt(252)\n",
        "volatility.plot()"
      ],
      "metadata": {
        "id": "YqVxCBPKvKCC"
      },
      "execution_count": null,
      "outputs": []
    },
    {
      "cell_type": "code",
      "source": [
        "volatility=volatility.iloc[-1]\n",
        "print(f\"A volatilidade de {ativo} é {volatility:2f}\")"
      ],
      "metadata": {
        "colab": {
          "base_uri": "https://localhost:8080/"
        },
        "id": "3tcYEGAZvhj2",
        "outputId": "cf742e7f-1f7c-45f8-a601-0d776f785d9b"
      },
      "execution_count": null,
      "outputs": [
        {
          "output_type": "stream",
          "name": "stdout",
          "text": [
            "A volatilidade de LREN3.SA é 0.465640\n"
          ]
        }
      ]
    },
    {
      "cell_type": "markdown",
      "source": [
        "### Calculadora de dias úteis"
      ],
      "metadata": {
        "id": "XaQ9Ppuk6zPT"
      }
    },
    {
      "cell_type": "code",
      "source": [
        "d1 = dt.date(2023, 6, 25)\n",
        "d2 = dt.date(2023, 12, 31)\n",
        "print(wd.networkdays(d1, d2))"
      ],
      "metadata": {
        "colab": {
          "base_uri": "https://localhost:8080/"
        },
        "id": "0c6Qrkmqhk4c",
        "outputId": "0c656763-7130-41cf-d59d-40864e2bed6d"
      },
      "execution_count": 19,
      "outputs": [
        {
          "output_type": "stream",
          "name": "stdout",
          "text": [
            "135\n"
          ]
        }
      ]
    },
    {
      "cell_type": "markdown",
      "source": [
        "#Precificação de opções"
      ],
      "metadata": {
        "id": "PdMzD1Vgxo3I"
      }
    },
    {
      "cell_type": "markdown",
      "source": [
        "### Variáveis de entrada"
      ],
      "metadata": {
        "id": "-E6jmmRn09ea"
      }
    },
    {
      "cell_type": "code",
      "source": [
        "#Variáveis do modelo Black and Scholes - Merton\n",
        "r=0.1365          #Taxa livre de risco - CDI acumulado até o vencimento\n",
        "S= 21.35          #Preço atual do ativo - Preço de tela\n",
        "K= 18.51          #Strike - Preço de exercício\n",
        "T= 55/252         #Dias úteis até o vencimento - Não desconsidera feriados\n",
        "sigma=volatility  #Volatilidade - Janela de 20 dias, anualizada\n",
        "q=0.0             #Dividend Yield anualizado"
      ],
      "metadata": {
        "id": "mbR_rHkswXg3"
      },
      "execution_count": null,
      "outputs": []
    },
    {
      "cell_type": "markdown",
      "source": [
        "### Call - Prêmio, Delta, Theta, Vega, Rho e Gama"
      ],
      "metadata": {
        "id": "dEfJ5Xuh02kK"
      }
    },
    {
      "cell_type": "code",
      "source": [
        "tipo_da_opcao='c'\n",
        "print(\"Prêmio da Call: \",bsm(tipo_da_opcao,S,K,T,r,sigma,q))\n",
        "print(\"Delta da Call:  \",delta(tipo_da_opcao,S,K,T,r,sigma,q))\n",
        "print(\"Theta da Call:  \",theta(tipo_da_opcao,S,K,T,r,sigma,q))\n",
        "print(\"Vega da Call:   \",vega(tipo_da_opcao,S,K,T,r,sigma,q))\n",
        "print(\"Rho da Call:    \",rho(tipo_da_opcao,S,K,T,r,sigma,q))\n",
        "print(\"Gamma da Call:  \",gamma(tipo_da_opcao,S,K,T,r,sigma,q))"
      ],
      "metadata": {
        "colab": {
          "base_uri": "https://localhost:8080/",
          "height": 235
        },
        "id": "K58h_BSwyF-B",
        "outputId": "e6979161-7e32-420d-9156-251a80a13cf0"
      },
      "execution_count": 20,
      "outputs": [
        {
          "output_type": "error",
          "ename": "NameError",
          "evalue": "ignored",
          "traceback": [
            "\u001b[0;31m---------------------------------------------------------------------------\u001b[0m",
            "\u001b[0;31mNameError\u001b[0m                                 Traceback (most recent call last)",
            "\u001b[0;32m<ipython-input-20-c48e42e72ed6>\u001b[0m in \u001b[0;36m<cell line: 2>\u001b[0;34m()\u001b[0m\n\u001b[1;32m      1\u001b[0m \u001b[0mtipo_da_opcao\u001b[0m\u001b[0;34m=\u001b[0m\u001b[0;34m'c'\u001b[0m\u001b[0;34m\u001b[0m\u001b[0;34m\u001b[0m\u001b[0m\n\u001b[0;32m----> 2\u001b[0;31m \u001b[0mprint\u001b[0m\u001b[0;34m(\u001b[0m\u001b[0;34m\"Prêmio da Call: \"\u001b[0m\u001b[0;34m,\u001b[0m\u001b[0mbsm\u001b[0m\u001b[0;34m(\u001b[0m\u001b[0mtipo_da_opcao\u001b[0m\u001b[0;34m,\u001b[0m\u001b[0mS\u001b[0m\u001b[0;34m,\u001b[0m\u001b[0mK\u001b[0m\u001b[0;34m,\u001b[0m\u001b[0mT\u001b[0m\u001b[0;34m,\u001b[0m\u001b[0mr\u001b[0m\u001b[0;34m,\u001b[0m\u001b[0msigma\u001b[0m\u001b[0;34m,\u001b[0m\u001b[0mq\u001b[0m\u001b[0;34m)\u001b[0m\u001b[0;34m)\u001b[0m\u001b[0;34m\u001b[0m\u001b[0;34m\u001b[0m\u001b[0m\n\u001b[0m\u001b[1;32m      3\u001b[0m \u001b[0mprint\u001b[0m\u001b[0;34m(\u001b[0m\u001b[0;34m\"Delta da Call:  \"\u001b[0m\u001b[0;34m,\u001b[0m\u001b[0mdelta\u001b[0m\u001b[0;34m(\u001b[0m\u001b[0mtipo_da_opcao\u001b[0m\u001b[0;34m,\u001b[0m\u001b[0mS\u001b[0m\u001b[0;34m,\u001b[0m\u001b[0mK\u001b[0m\u001b[0;34m,\u001b[0m\u001b[0mT\u001b[0m\u001b[0;34m,\u001b[0m\u001b[0mr\u001b[0m\u001b[0;34m,\u001b[0m\u001b[0msigma\u001b[0m\u001b[0;34m,\u001b[0m\u001b[0mq\u001b[0m\u001b[0;34m)\u001b[0m\u001b[0;34m)\u001b[0m\u001b[0;34m\u001b[0m\u001b[0;34m\u001b[0m\u001b[0m\n\u001b[1;32m      4\u001b[0m \u001b[0mprint\u001b[0m\u001b[0;34m(\u001b[0m\u001b[0;34m\"Theta da Call:  \"\u001b[0m\u001b[0;34m,\u001b[0m\u001b[0mtheta\u001b[0m\u001b[0;34m(\u001b[0m\u001b[0mtipo_da_opcao\u001b[0m\u001b[0;34m,\u001b[0m\u001b[0mS\u001b[0m\u001b[0;34m,\u001b[0m\u001b[0mK\u001b[0m\u001b[0;34m,\u001b[0m\u001b[0mT\u001b[0m\u001b[0;34m,\u001b[0m\u001b[0mr\u001b[0m\u001b[0;34m,\u001b[0m\u001b[0msigma\u001b[0m\u001b[0;34m,\u001b[0m\u001b[0mq\u001b[0m\u001b[0;34m)\u001b[0m\u001b[0;34m)\u001b[0m\u001b[0;34m\u001b[0m\u001b[0;34m\u001b[0m\u001b[0m\n\u001b[1;32m      5\u001b[0m \u001b[0mprint\u001b[0m\u001b[0;34m(\u001b[0m\u001b[0;34m\"Vega da Call:   \"\u001b[0m\u001b[0;34m,\u001b[0m\u001b[0mvega\u001b[0m\u001b[0;34m(\u001b[0m\u001b[0mtipo_da_opcao\u001b[0m\u001b[0;34m,\u001b[0m\u001b[0mS\u001b[0m\u001b[0;34m,\u001b[0m\u001b[0mK\u001b[0m\u001b[0;34m,\u001b[0m\u001b[0mT\u001b[0m\u001b[0;34m,\u001b[0m\u001b[0mr\u001b[0m\u001b[0;34m,\u001b[0m\u001b[0msigma\u001b[0m\u001b[0;34m,\u001b[0m\u001b[0mq\u001b[0m\u001b[0;34m)\u001b[0m\u001b[0;34m)\u001b[0m\u001b[0;34m\u001b[0m\u001b[0;34m\u001b[0m\u001b[0m\n",
            "\u001b[0;31mNameError\u001b[0m: name 'S' is not defined"
          ]
        }
      ]
    },
    {
      "cell_type": "markdown",
      "source": [
        "### Put - Prêmio, Delta, Theta, Vega, Rho e Gama"
      ],
      "metadata": {
        "id": "IA1ptGB91rNa"
      }
    },
    {
      "cell_type": "code",
      "source": [
        "tipo_da_opcao='p'\n",
        "print(\"Prêmio da Put: \",bsm(tipo_da_opcao,S,K,T,r,sigma,q))\n",
        "print(\"Delta da Put:  \",delta(tipo_da_opcao,S,K,T,r,sigma,q))\n",
        "print(\"Theta da Put:  \",theta(tipo_da_opcao,S,K,T,r,sigma,q))\n",
        "print(\"Vega da Put:   \",vega(tipo_da_opcao,S,K,T,r,sigma,q))\n",
        "print(\"Rho da Put:    \",rho(tipo_da_opcao,S,K,T,r,sigma,q))\n",
        "print(\"Gamma da Put:  \",gamma(tipo_da_opcao,S,K,T,r,sigma,q))"
      ],
      "metadata": {
        "colab": {
          "base_uri": "https://localhost:8080/"
        },
        "id": "luClydxNznOt",
        "outputId": "ca6a57a4-9dec-45dc-dbb3-76c2164826ee"
      },
      "execution_count": null,
      "outputs": [
        {
          "output_type": "stream",
          "name": "stdout",
          "text": [
            "Prêmio da Put:  0.5165857036348975\n",
            "Delta da Put:   -0.18355806160595634\n",
            "Theta da Put:   -0.006084523896919448\n",
            "Vega da Put:    0.026494812337882298\n",
            "Rho da Put:     -0.009680764584948955\n",
            "Gamma da Put:   0.057194306052983916\n"
          ]
        }
      ]
    },
    {
      "cell_type": "markdown",
      "source": [
        "### Call Spread - Prêmio, Delta, Theta, Vega, Rho e Gama"
      ],
      "metadata": {
        "id": "6diZyyXR196R"
      }
    },
    {
      "cell_type": "code",
      "source": [
        "#Variáveis do modelo Black and Scholes - Merton\n",
        "r=0.1365          #Taxa livre de risco - CDI acumulado até o vencimento\n",
        "S= 21.35          #Preço atual do ativo - Preço de tela\n",
        "T= 55/252         #Dias úteis até o vencimento - Não desconsidera feriados\n",
        "sigma=volatility  #Volatilidade - Janela de 20 dias, anualizada\n",
        "q=0.0             #Dividend Yield anualizado\n",
        "\n",
        "#Preço da CALL COMPRADA\n",
        "K_1= 16.01          #Strike - Preço de exercício\n",
        "#Preço da CALL VENDIDA\n",
        "K_2= 18.50          #Strike - Preço de exercício"
      ],
      "metadata": {
        "id": "l1cYcY2k1ZrF"
      },
      "execution_count": null,
      "outputs": []
    },
    {
      "cell_type": "code",
      "source": [
        "tipo_da_opcao='c'\n",
        "print(\"Prêmio da Call Spread: \",bsm(tipo_da_opcao,S,K_1,T,r,sigma,q)-bsm(tipo_da_opcao,S,K_2,T,r,sigma,q))\n",
        "print(\"Delta da Call Spread:  \",delta(tipo_da_opcao,S,K_1,T,r,sigma,q)-delta(tipo_da_opcao,S,K_2,T,r,sigma,q))\n",
        "print(\"Theta da Call Spread:  \",theta(tipo_da_opcao,S,K_1,T,r,sigma,q)-theta(tipo_da_opcao,S,K_2,T,r,sigma,q))\n",
        "print(\"Vega da Call Spread:   \",vega(tipo_da_opcao,S,K_1,T,r,sigma,q)-vega(tipo_da_opcao,S,K_2,T,r,sigma,q))\n",
        "print(\"Rho da Call Spread:    \",rho(tipo_da_opcao,S,K_1,T,r,sigma,q)-rho(tipo_da_opcao,S,K_2,T,r,sigma,q))\n",
        "print(\"Gamma da Call Spread:  \",gamma(tipo_da_opcao,S,K_1,T,r,sigma,q)-gamma(tipo_da_opcao,S,K_2,T,r,sigma,q))"
      ],
      "metadata": {
        "id": "P_NTpkAr22j0"
      },
      "execution_count": null,
      "outputs": []
    },
    {
      "cell_type": "markdown",
      "source": [
        "### Put Spread - Prêmio, Delta, Theta, Vega, Rho e Gama"
      ],
      "metadata": {
        "id": "301XXNAi3yLn"
      }
    },
    {
      "cell_type": "code",
      "source": [
        "#Variáveis do modelo Black and Scholes - Merton\n",
        "r=0.1365          #Taxa livre de risco - CDI acumulado até o vencimento\n",
        "S= 21.35          #Preço atual do ativo - Preço de tela\n",
        "T= 55/252         #Dias úteis até o vencimento - Não desconsidera feriados\n",
        "sigma=volatility  #Volatilidade - Janela de 20 dias, anualizada\n",
        "q=0.0             #Dividend Yield anualizado\n",
        "\n",
        "#Preço da PUT COMPRADA\n",
        "K_1= 16.01          #Strike - Preço de exercício\n",
        "#Preço da PUT VENDIDA\n",
        "K_2= 15.50          #Strike - Preço de exercício"
      ],
      "metadata": {
        "id": "yFGnZbWn31gH"
      },
      "execution_count": null,
      "outputs": []
    },
    {
      "cell_type": "code",
      "source": [
        "tipo_da_opcao='p'\n",
        "print(\"Prêmio da Put Spread: \",bsm(tipo_da_opcao,S,K_1,T,r,sigma,q)-bsm(tipo_da_opcao,S,K_2,T,r,sigma,q))\n",
        "print(\"Delta da Put Spread:  \",delta(tipo_da_opcao,S,K_1,T,r,sigma,q)-delta(tipo_da_opcao,S,K_2,T,r,sigma,q))\n",
        "print(\"Theta da Put Spread:  \",theta(tipo_da_opcao,S,K_1,T,r,sigma,q)-theta(tipo_da_opcao,S,K_2,T,r,sigma,q))\n",
        "print(\"Vega da Put Spread:   \",vega(tipo_da_opcao,S,K_1,T,r,sigma,q)-vega(tipo_da_opcao,S,K_2,T,r,sigma,q))\n",
        "print(\"Rho da Put Spread:    \",rho(tipo_da_opcao,S,K_1,T,r,sigma,q)-rho(tipo_da_opcao,S,K_2,T,r,sigma,q))\n",
        "print(\"Gamma da Put Spread:  \",gamma(tipo_da_opcao,S,K_1,T,r,sigma,q)-gamma(tipo_da_opcao,S,K_2,T,r,sigma,q))"
      ],
      "metadata": {
        "id": "lj4AgmuC3DFY"
      },
      "execution_count": null,
      "outputs": []
    },
    {
      "cell_type": "code",
      "source": [],
      "metadata": {
        "id": "hBtKcT9Ohz-Q"
      },
      "execution_count": null,
      "outputs": []
    }
  ]
}