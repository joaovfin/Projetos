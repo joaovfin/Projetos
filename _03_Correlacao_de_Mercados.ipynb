{
  "nbformat": 4,
  "nbformat_minor": 0,
  "metadata": {
    "colab": {
      "name": "_03_Correlacao_de_Mercados.ipynb",
      "provenance": [],
      "include_colab_link": true
    },
    "kernelspec": {
      "name": "python3",
      "display_name": "Python 3"
    }
  },
  "cells": [
    {
      "cell_type": "markdown",
      "metadata": {
        "id": "view-in-github",
        "colab_type": "text"
      },
      "source": [
        "<a href=\"https://colab.research.google.com/github/joaovfin/Projetos/blob/main/_03_Correlacao_de_Mercados.ipynb\" target=\"_parent\"><img src=\"https://colab.research.google.com/assets/colab-badge.svg\" alt=\"Open In Colab\"/></a>"
      ]
    },
    {
      "cell_type": "markdown",
      "metadata": {
        "id": "h7aIAKdw4ghp"
      },
      "source": [
        "# Correlação\n",
        "\n",
        "\n",
        "\n",
        "\n",
        "\n",
        "\n",
        "\n"
      ]
    },
    {
      "cell_type": "code",
      "metadata": {
        "id": "zBUbd3Sa4TSD"
      },
      "source": [
        "#Carregando bibliotecas e instalando yfinance\n",
        "!pip install yfinance --upgrade --no-cache-dir\n",
        "import numpy as np\n",
        "import pandas as pd\n",
        "import matplotlib.pyplot as plt\n",
        "import pandas_datareader.data as web\n",
        "import yfinance as yf\n",
        "yf.pdr_override()\n",
        "\n",
        "import seaborn as sns"
      ],
      "execution_count": 1,
      "outputs": []
    },
    {
      "cell_type": "markdown",
      "metadata": {
        "id": "lhm8TudV4K7P"
      },
      "source": [
        "##Obtendo os dados"
      ]
    },
    {
      "cell_type": "code",
      "metadata": {
        "id": "7bRfGzAR5Byh"
      },
      "source": [
        "tickers = [\"^BVSP\", \"^GSPC\"]\n",
        "carteira=web.get_data_yahoo(tickers,start=\"2012-01-01\")[\"Close\"]"
      ],
      "execution_count": null,
      "outputs": []
    },
    {
      "cell_type": "code",
      "metadata": {
        "id": "VwycdWc15WAV"
      },
      "source": [
        "carteira"
      ],
      "execution_count": null,
      "outputs": []
    },
    {
      "cell_type": "code",
      "metadata": {
        "id": "D1nql-996wOI"
      },
      "source": [
        "carteira.plot(subplots=True, figsize=(20,8))"
      ],
      "execution_count": null,
      "outputs": []
    },
    {
      "cell_type": "code",
      "metadata": {
        "id": "k1Bf6t6b6JoU"
      },
      "source": [
        "carteira=carteira.dropna()\n",
        "carteira"
      ],
      "execution_count": null,
      "outputs": []
    },
    {
      "cell_type": "code",
      "metadata": {
        "id": "NtoUAfYE6XmZ"
      },
      "source": [
        "carteira.columns=[\"IBOV\",\"S&P 500\"]"
      ],
      "execution_count": null,
      "outputs": []
    },
    {
      "cell_type": "code",
      "metadata": {
        "id": "wD2GG-iX5jhN"
      },
      "source": [
        "carteira.plot(subplots=True, figsize=(20,8))"
      ],
      "execution_count": null,
      "outputs": []
    },
    {
      "cell_type": "code",
      "metadata": {
        "id": "LONnFNgb6UeE"
      },
      "source": [
        "sns.heatmap(carteira.corr(),annot=True)"
      ],
      "execution_count": null,
      "outputs": []
    },
    {
      "cell_type": "code",
      "metadata": {
        "id": "ccQ5jwz27LNu"
      },
      "source": [
        "#Como a correlação é váriavel ao longo do tempo, pode-se plotar diariamente as correlações\n",
        "carteira[\"S&P 500\"].rolling(252).corr(carteira[\"IBOV\"]).plot(figsize=(20,8))"
      ],
      "execution_count": null,
      "outputs": []
    },
    {
      "cell_type": "code",
      "metadata": {
        "id": "16PFS3sh5eEq"
      },
      "source": [
        ""
      ],
      "execution_count": null,
      "outputs": []
    }
  ]
}